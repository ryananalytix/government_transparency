{
 "cells": [
  {
   "cell_type": "code",
   "execution_count": null,
   "id": "db117072-6045-4e6d-80a6-02a8572b756c",
   "metadata": {
    "id": "db117072-6045-4e6d-80a6-02a8572b756c"
   },
   "outputs": [],
   "source": [
    "import pandas as pd\n",
    "import numpy as np\n",
    "from bs4 import BeautifulSoup as bs\n",
    "import requests"
   ]
  },
  {
   "cell_type": "code",
   "execution_count": null,
   "id": "3aff4ac3-899b-4a7c-9234-f8bd7c6989aa",
   "metadata": {
    "id": "3aff4ac3-899b-4a7c-9234-f8bd7c6989aa"
   },
   "outputs": [],
   "source": [
    "ACT= \"https://www.act.gov.au/open-access/ministers-information/ministerial-diaries-disclosure\"\n",
    "\n",
    "QLD= \"https://cabinet.qld.gov.au/ministers-portfolios.aspx\""
   ]
  },
  {
   "cell_type": "code",
   "execution_count": null,
   "id": "65a1c0d0-74d7-4508-8c3f-0537677f8e87",
   "metadata": {
    "id": "65a1c0d0-74d7-4508-8c3f-0537677f8e87",
    "outputId": "575a8052-25ac-463d-9ffe-ec852d567233"
   },
   "outputs": [
    {
     "data": {
      "text/plain": [
       "'fdfdf'"
      ]
     },
     "execution_count": 10,
     "metadata": {},
     "output_type": "execute_result"
    }
   ],
   "source": [
    "\"/ministers-portfolios/fdfdf\".replace(\"/ministers-portfolios/\", \"\")"
   ]
  },
  {
   "cell_type": "code",
   "execution_count": null,
   "id": "9869595b-b440-4eb4-a9f8-c929b44eaab0",
   "metadata": {
    "id": "9869595b-b440-4eb4-a9f8-c929b44eaab0"
   },
   "outputs": [],
   "source": [
    "page = requests.get(QLD)\n",
    "soup = bs(page.content, \"html.parser\")\n",
    "results = soup.find_all(\"a\")\n",
    "\n",
    "urls = []\n",
    "names = []\n",
    "error_files = []\n",
    "d = {}\n",
    "for i, link in enumerate(results):\n",
    "    current_link = link.get('href')\n",
    "    if 'ministers-portfolios/' in current_link:\n",
    "        \n",
    "        current_link = current_link.split(\"/\")[-1].split(\".\")[0]\n",
    "        #print(current_link)\n",
    "        \n",
    "       \n",
    "        minister_page = requests.get(\"https://cabinet.qld.gov.au/ministers-portfolios/\"+current_link+\".aspx\")\n",
    "        \n",
    "        minister_soup = bs(minister_page.content, \"html.parser\")\n",
    "        minister_results = minister_soup.find_all(\"a\")\n",
    "            \n",
    "        \n",
    "        for l, minister_link in enumerate(minister_results):\n",
    "            current_link1 = minister_link.get('href')\n",
    "            \n",
    "            if current_link1.endswith('pdf'):\n",
    "                current_link1 = current_link1.replace(\"/ministers-portfolios/\", \"\")\n",
    "                urls.append(current_link1)\n",
    "                names.append(current_link)\n",
    "            \n"
   ]
  },
  {
   "cell_type": "code",
   "execution_count": null,
   "id": "183484b2-3f73-453a-9e87-62da96115256",
   "metadata": {
    "id": "183484b2-3f73-453a-9e87-62da96115256"
   },
   "outputs": [],
   "source": [
    "names_urls = zip(names, urls)\n",
    "\n",
    "errorURL= []\n",
    "\n",
    "for name, url in names_urls:\n",
    "    if \"http://\" not in url:\n",
    "        try: \n",
    "            if \"charter-letter\" not in url:\n",
    "                year, month = url.split(\"/\")[2], url.split(\"/\")[3]\n",
    "            else:\n",
    "                month = \"charter\"\n",
    "                year = \"-letter\"\n",
    "            r = requests.get(\"https://cabinet.qld.gov.au/ministers-portfolios/\"+url)\n",
    "            with open(\"QLD_pdfs//\" + name+\"_\"+month+year+\".pdf\", \"wb\") as f:\n",
    "                f.write(r.content)\n",
    "        except: \n",
    "            errorURL.append(url)\n",
    "            pass\n",
    "            "
   ]
  },
  {
   "cell_type": "code",
   "execution_count": null,
   "id": "d372296e-a80b-4ebe-bdba-b328beeb3cea",
   "metadata": {
    "id": "d372296e-a80b-4ebe-bdba-b328beeb3cea",
    "outputId": "546c480a-1c45-4199-d142-7cf720d3df40"
   },
   "outputs": [
    {
     "data": {
      "text/plain": [
       "[]"
      ]
     },
     "execution_count": 13,
     "metadata": {},
     "output_type": "execute_result"
    }
   ],
   "source": [
    "errorURL"
   ]
  },
  {
   "cell_type": "code",
   "execution_count": null,
   "id": "76413b24-40aa-4fcb-9b48-7f80ded3a5fc",
   "metadata": {
    "id": "76413b24-40aa-4fcb-9b48-7f80ded3a5fc"
   },
   "outputs": [],
   "source": [
    "with open(\"QLD_pdfs//\" + \"ErrorFile.pdf\", \"w\") as p: \n",
    "    p.write(\",\".join(errorURL))"
   ]
  },
  {
   "cell_type": "code",
   "execution_count": null,
   "id": "70bbe14f",
   "metadata": {
    "id": "70bbe14f"
   },
   "outputs": [],
   "source": []
  }
 ],
 "metadata": {
  "colab": {
   "name": "_WebScrapping_QLD.ipynb",
   "provenance": []
  },
  "kernelspec": {
   "display_name": "Python 3",
   "language": "python",
   "name": "python3"
  },
  "language_info": {
   "codemirror_mode": {
    "name": "ipython",
    "version": 3
   },
   "file_extension": ".py",
   "mimetype": "text/x-python",
   "name": "python",
   "nbconvert_exporter": "python",
   "pygments_lexer": "ipython3",
   "version": "3.8.8"
  }
 },
 "nbformat": 4,
 "nbformat_minor": 5
}
