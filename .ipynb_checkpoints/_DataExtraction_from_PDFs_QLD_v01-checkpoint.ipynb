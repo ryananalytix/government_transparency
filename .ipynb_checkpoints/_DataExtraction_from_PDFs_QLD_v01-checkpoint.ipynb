{
 "cells": [
  {
   "cell_type": "code",
   "execution_count": 1,
   "id": "5d076e7e-f10e-4274-9dc6-ac5ba9a95dbb",
   "metadata": {},
   "outputs": [],
   "source": [
    "import camelot\n",
    "import pandas as pd\n",
    "import numpy as np\n",
    "import glob"
   ]
  },
  {
   "cell_type": "code",
   "execution_count": 2,
   "id": "646cc1b6-7b3c-4038-b4f3-46cb7de39284",
   "metadata": {},
   "outputs": [],
   "source": [
    "def get_portfolio(file_name):\n",
    "    Portfolio_temp =file_name.split(\"-\")\n",
    "    cmonth =  ['January', 'February', 'March', 'April', 'May', 'June', 'July', 'August', 'September', 'October', 'November', 'December']\n",
    "    Portfolio = \"\"\n",
    "    for prt in Portfolio_temp:\n",
    "        if isinstance(prt, int) or prt in cmonth or \"pdf\" in prt:\n",
    "            pass\n",
    "        else:\n",
    "            Portfolio += prt +\" \"\n",
    "    return Portfolio"
   ]
  },
  {
   "cell_type": "code",
   "execution_count": 3,
   "id": "352220ba-e040-45e8-b5f9-c5ef058a2374",
   "metadata": {},
   "outputs": [],
   "source": [
    "\n",
    "#file =\"webscraping_01/Minister-for-Jobs-Investment-Tourism-Western-Sydney-July-September-2021.pdf\"\n",
    "\n",
    "\n",
    "\n",
    "\n",
    "def extract_tables(file, portfolio):\n",
    "    tables = camelot.read_pdf(file, pages='all')\n",
    "\n",
    "    for table in tables:\n",
    "        for idx, row in table.df.iterrows():\n",
    "            if row[0] == \"\":\n",
    "                date = next_date\n",
    "            else:\n",
    "                date = row[0]\n",
    "            \n",
    "            \n",
    "            purpose = row[2]\n",
    "            if purpose == \"\":\n",
    "                    purpose = next_purpose  #if the next page does not have date or purpose take it from previous page\n",
    "                    \n",
    "            if \"Date\" not in row[0]:\n",
    "                orgs = row[1].split(\"\\n\")\n",
    "                next_date = date\n",
    "                next_purpose = purpose #if the next page does not have date or purpose take it from previous page\n",
    "                for org in orgs:\n",
    "                    org = org.replace(\"¬†\", \" \")\n",
    "                    df[\"Date\"].append(date)\n",
    "                    df[\"Portfolio\"].append(portfolio)\n",
    "                    df[\"Organisation/Individual2\"].append(org)\n",
    "                    df[\"Purpose of Meeting\"].append(purpose)\n",
    "            "
   ]
  },
  {
   "cell_type": "code",
   "execution_count": 4,
   "id": "108f1aa3-9155-4a65-9c5f-c452740745dd",
   "metadata": {},
   "outputs": [
    {
     "name": "stderr",
     "output_type": "stream",
     "text": [
      "UserWarning: page-1 is image-based, camelot only works on text-based pages. [lattice.py:411]\n",
      "UserWarning: page-2 is image-based, camelot only works on text-based pages. [lattice.py:411]\n",
      "UserWarning: page-3 is image-based, camelot only works on text-based pages. [lattice.py:411]\n",
      "UserWarning: page-4 is image-based, camelot only works on text-based pages. [lattice.py:411]\n",
      "UserWarning: page-5 is image-based, camelot only works on text-based pages. [lattice.py:411]\n",
      "UserWarning: page-1 is image-based, camelot only works on text-based pages. [lattice.py:411]\n",
      "UserWarning: page-2 is image-based, camelot only works on text-based pages. [lattice.py:411]\n",
      "UserWarning: page-3 is image-based, camelot only works on text-based pages. [lattice.py:411]\n",
      "UserWarning: page-4 is image-based, camelot only works on text-based pages. [lattice.py:411]\n",
      "UserWarning: page-5 is image-based, camelot only works on text-based pages. [lattice.py:411]\n",
      "UserWarning: page-1 is image-based, camelot only works on text-based pages. [lattice.py:411]\n",
      "UserWarning: page-2 is image-based, camelot only works on text-based pages. [lattice.py:411]\n",
      "UserWarning: page-3 is image-based, camelot only works on text-based pages. [lattice.py:411]\n",
      "UserWarning: page-4 is image-based, camelot only works on text-based pages. [lattice.py:411]\n",
      "UserWarning: page-5 is image-based, camelot only works on text-based pages. [lattice.py:411]\n",
      "UserWarning: page-1 is image-based, camelot only works on text-based pages. [lattice.py:411]\n",
      "UserWarning: page-2 is image-based, camelot only works on text-based pages. [lattice.py:411]\n",
      "UserWarning: page-3 is image-based, camelot only works on text-based pages. [lattice.py:411]\n",
      "UserWarning: page-4 is image-based, camelot only works on text-based pages. [lattice.py:411]\n",
      "UserWarning: page-5 is image-based, camelot only works on text-based pages. [lattice.py:411]\n",
      "UserWarning: page-1 is image-based, camelot only works on text-based pages. [lattice.py:411]\n",
      "UserWarning: page-2 is image-based, camelot only works on text-based pages. [lattice.py:411]\n",
      "UserWarning: page-3 is image-based, camelot only works on text-based pages. [lattice.py:411]\n",
      "UserWarning: page-4 is image-based, camelot only works on text-based pages. [lattice.py:411]\n",
      "UserWarning: page-5 is image-based, camelot only works on text-based pages. [lattice.py:411]\n"
     ]
    }
   ],
   "source": [
    "df = { \"Date\":[], \"Portfolio\":[], \"Organisation/Individual2\": [], \"Purpose of Meeting\":[]}\n",
    "pdf_files = glob.glob(\"QLD_pdfs/*.pdf\")\n",
    "err_files = []\n",
    "for file in pdf_files:\n",
    "    file_name = file[len(\"QLD_pdfs/\"):]\n",
    "    portfolio = get_portfolio(file_name)\n",
    "    try:\n",
    "        extract_tables(file, portfolio)\n",
    "    except:\n",
    "        err_files.append(file_name)\n",
    "        pass"
   ]
  },
  {
   "cell_type": "code",
   "execution_count": 5,
   "id": "8edc4371-7722-4d54-aecb-73217019a450",
   "metadata": {},
   "outputs": [],
   "source": [
    "df = pd.DataFrame(df)\n",
    "\n",
    "#pd.to_datetime(df.Date, format=\"%d %B %Y\")"
   ]
  },
  {
   "cell_type": "code",
   "execution_count": 6,
   "id": "1acfeee9-fb4e-42e3-8445-404836530d85",
   "metadata": {},
   "outputs": [],
   "source": [
    "df.to_csv(\"QLD_data.csv\", index=False)"
   ]
  },
  {
   "cell_type": "code",
   "execution_count": null,
   "id": "21b0c6fd-e742-4628-85be-92693183dd8b",
   "metadata": {},
   "outputs": [],
   "source": []
  }
 ],
 "metadata": {
  "kernelspec": {
   "display_name": "Python 3",
   "language": "python",
   "name": "python3"
  },
  "language_info": {
   "codemirror_mode": {
    "name": "ipython",
    "version": 3
   },
   "file_extension": ".py",
   "mimetype": "text/x-python",
   "name": "python",
   "nbconvert_exporter": "python",
   "pygments_lexer": "ipython3",
   "version": "3.8.8"
  }
 },
 "nbformat": 4,
 "nbformat_minor": 5
}
